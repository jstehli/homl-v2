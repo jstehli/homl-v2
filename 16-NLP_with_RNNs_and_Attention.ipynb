{
 "cells": [
  {
   "cell_type": "markdown",
   "metadata": {},
   "source": [
    "# Exercise 8"
   ]
  },
  {
   "cell_type": "code",
   "execution_count": 1,
   "metadata": {},
   "outputs": [],
   "source": [
    "import numpy as np\n",
    "\n",
    "np.random.seed(42)"
   ]
  },
  {
   "cell_type": "code",
   "execution_count": 2,
   "metadata": {},
   "outputs": [],
   "source": [
    "def generate_embedded_reber():\n",
    "    string = \"B\"\n",
    "    if np.random.randint(2):\n",
    "        string += \"T\" + generate_reber() + \"T\"\n",
    "    else:\n",
    "        string += \"P\" + generate_reber() + \"P\"\n",
    "    return string + \"E\"\n",
    "\n",
    "def generate_reber():\n",
    "    string = \"B\"\n",
    "    path = np.random.randint(2)\n",
    "    \n",
    "    if path:\n",
    "        # upper path\n",
    "        string += \"T\"\n",
    "        state = 0\n",
    "    else:\n",
    "        # lower path\n",
    "        string += \"P\"\n",
    "        state = 2\n",
    "    \n",
    "    while state < 4:\n",
    "        string, state = process_state(string, state)\n",
    "\n",
    "    return string + \"E\"\n",
    "\n",
    "def process_state(string, state):\n",
    "    switch = np.random.randint(2)\n",
    "    \n",
    "    if state == 0:\n",
    "        if switch:\n",
    "            string += \"S\"\n",
    "            state = 0\n",
    "        else:\n",
    "            string += \"X\"\n",
    "            state = 1\n",
    "    elif state == 1:\n",
    "        if switch:\n",
    "            string += \"X\"\n",
    "            state = 2\n",
    "        else:\n",
    "            string += \"S\"\n",
    "            state = 4\n",
    "    elif state == 2:\n",
    "        if switch:\n",
    "            string += \"T\"\n",
    "            state = 2\n",
    "        else:\n",
    "            string += \"V\"\n",
    "            state = 3\n",
    "    elif state == 3:\n",
    "        if switch:\n",
    "            string += \"P\"\n",
    "            state = 1\n",
    "        else:\n",
    "            string += \"V\"\n",
    "            state = 4\n",
    "    else:\n",
    "        raise ValueError(\"illegal input state\")\n",
    "    \n",
    "    return string, state"
   ]
  },
  {
   "cell_type": "code",
   "execution_count": 3,
   "metadata": {},
   "outputs": [],
   "source": [
    "def check_embedded_reber(string):\n",
    "    if string[0] == \"B\":\n",
    "        string = string[1:]\n",
    "    else:\n",
    "        return False\n",
    "    \n",
    "    path = string[0]\n",
    "    string = string[1:]\n",
    "    \n",
    "    if path == \"T\":\n",
    "        check, string = check_reber(string)\n",
    "        if check and (string == \"TE\"):\n",
    "            return True\n",
    "    if path == \"P\":\n",
    "        check, string = check_reber(string)\n",
    "        if check and (string == \"PE\"):\n",
    "            return True\n",
    "    \n",
    "    # in all other cases...\n",
    "    return False\n",
    "\n",
    "def check_reber(string):\n",
    "    if string[0] == \"B\":\n",
    "        string = string[1:]\n",
    "    else:\n",
    "        return False, \" \"\n",
    "    \n",
    "    path = string[0]\n",
    "    string = string[1:]\n",
    "    \n",
    "    if path == \"T\":\n",
    "        state = 0\n",
    "    elif path == \"P\":\n",
    "        state = 2\n",
    "    else:\n",
    "        return False, \" \"\n",
    "    \n",
    "    while state < 4:\n",
    "        check, string, state = check_states(string, state)\n",
    "        if not check or not string:\n",
    "            return False, \" \"\n",
    "\n",
    "    if string[0] == \"E\":\n",
    "        return True, string[1:]\n",
    "    \n",
    "    # in all other cases...\n",
    "    return False, \" \"\n",
    "\n",
    "def check_states(string, state):\n",
    "    char = string[0]\n",
    "    string = string[1:]\n",
    "    check = False\n",
    "\n",
    "    if state == 0:\n",
    "        if char == \"S\":\n",
    "            state = 0\n",
    "            check = True\n",
    "        if char == \"X\":\n",
    "            state = 1\n",
    "            check = True\n",
    "    elif state == 1:\n",
    "        if char == \"X\":\n",
    "            state = 2\n",
    "            check = True\n",
    "        if char == \"S\":\n",
    "            state = 4\n",
    "            check = True\n",
    "    elif state == 2:\n",
    "        if char == \"T\":\n",
    "            state = 2\n",
    "            check = True\n",
    "        if char == \"V\":\n",
    "            state = 3\n",
    "            check = True\n",
    "    elif state == 3:\n",
    "        if char == \"P\":\n",
    "            state = 1\n",
    "            check = True\n",
    "        if char == \"V\":\n",
    "            state = 4\n",
    "            check = True\n",
    "    else:\n",
    "        raise ValueError(\"illegal input state\")\n",
    "    \n",
    "    return check, string, state"
   ]
  },
  {
   "cell_type": "code",
   "execution_count": 4,
   "metadata": {},
   "outputs": [
    {
     "name": "stdout",
     "output_type": "stream",
     "text": [
      "BPBTXSEPE: True\n",
      "BPBTXSEPE: True\n",
      "BPBTXSEPE: True\n",
      "BPBPTVPXTVPSEPE: True\n",
      "BTBTSSSSSSXSETE: True\n",
      "BTBTSXXVVETE: True\n",
      "BPBPVPXTTTVPXVPSEPE: True\n",
      "BTBPTTVVETE: True\n",
      "BPBPVVEPE: True\n",
      "BPBPTTVPXTTVPSEPE: True\n",
      "BTBTSXXVPSETE: True\n",
      "BTBPVPSETE: True\n",
      "BTBTSSSSSSSSSXSETE: True\n",
      "BTBTSSSSSSXXVPXVPSETE: True\n",
      "BTBTXXVPSETE: True\n",
      "BPBTSXXTTVVEPE: True\n",
      "BPBPVVEPE: True\n",
      "BPBPVPSEPE: True\n",
      "BTBTSXSETE: True\n",
      "BPBPTVVEPE: True\n"
     ]
    }
   ],
   "source": [
    "# generate some test string & check them\n",
    "for string_idx in range(20):\n",
    "    string = generate_embedded_reber()\n",
    "    check = check_embedded_reber(string)\n",
    "    print(\"{}: {}\".format(string, check))"
   ]
  },
  {
   "cell_type": "code",
   "execution_count": 5,
   "metadata": {},
   "outputs": [],
   "source": [
    "alphabet = \"BEPSTVX\"\n",
    "n_examples = 50000\n",
    "\n",
    "examples = []\n",
    "labels = np.empty(n_examples, dtype=\"uint8\")\n",
    "\n",
    "\n",
    "def corrupt_example(example):\n",
    "    # make a negative example out of a positive one\n",
    "    corrupt_chars = np.floor(len(example) / 2).astype(\"uint8\")  # max 50% corrupt characters\n",
    "    while check_embedded_reber(example):  # continue until we have a bad example\n",
    "        s = list(example)\n",
    "        for _ in range(corrupt_chars):\n",
    "            corrupt_char = np.random.randint(len(example))\n",
    "            replace_char = alphabet[np.random.randint(len(alphabet))]\n",
    "            s[corrupt_char] = replace_char\n",
    "        example = \"\".join(s)\n",
    "    return example\n",
    "\n",
    "\n",
    "for example_idx in range(n_examples):\n",
    "    string = generate_embedded_reber()\n",
    "    if np.random.randint(2):\n",
    "        # add positive example\n",
    "        examples.append(string)\n",
    "        labels[example_idx] = 1\n",
    "    else:\n",
    "        examples.append(corrupt_example(string))\n",
    "        labels[example_idx] = 0"
   ]
  },
  {
   "cell_type": "code",
   "execution_count": 6,
   "metadata": {},
   "outputs": [
    {
     "name": "stdout",
     "output_type": "stream",
     "text": [
      "string: BPBPVPSEPE, label: 1\n",
      "string: BPBTXSEPE, label: 1\n",
      "string: BTBTXXVVETE, label: 1\n",
      "string: BTBPEPPTXVETE, label: 0\n",
      "string: BPBVXSTSEPE, label: 0\n",
      "string: BPBPVPSEPE, label: 1\n",
      "string: BPBPVSSTXVESEVE, label: 0\n",
      "string: BTBPVVVPP, label: 0\n",
      "string: EPBBXBEXE, label: 0\n",
      "string: BEBTSXTVVEBV, label: 0\n",
      "string: BVSTSTXTSTXVPSEBX, label: 0\n",
      "string: BBSPTVSXBTE, label: 0\n",
      "string: BPBTXSEPE, label: 1\n",
      "string: BPBPTTVVEPE, label: 1\n",
      "string: BTBTSXXTVPSETE, label: 1\n",
      "string: BTBTXSETE, label: 1\n",
      "string: BPPVVVESE, label: 0\n",
      "string: VPBPTTTXSTVPXVVSPE, label: 0\n",
      "string: BTBPTTVVETE, label: 1\n",
      "string: BPBTSSSSXSEPE, label: 1\n"
     ]
    }
   ],
   "source": [
    "# print some examples and labels\n",
    "\n",
    "for idx in range(20):\n",
    "    print(\"string: {}, label: {}\".format(examples[idx], labels[idx]))"
   ]
  },
  {
   "cell_type": "code",
   "execution_count": 7,
   "metadata": {},
   "outputs": [
    {
     "data": {
      "text/plain": [
       "43"
      ]
     },
     "execution_count": 7,
     "metadata": {},
     "output_type": "execute_result"
    }
   ],
   "source": [
    "max([len(x) for x in examples])"
   ]
  },
  {
   "cell_type": "code",
   "execution_count": 8,
   "metadata": {},
   "outputs": [
    {
     "data": {
      "text/plain": [
       "(True, '', 3)"
      ]
     },
     "execution_count": 8,
     "metadata": {},
     "output_type": "execute_result"
    }
   ],
   "source": []
  },
  {
   "cell_type": "code",
   "execution_count": null,
   "metadata": {},
   "outputs": [],
   "source": []
  }
 ],
 "metadata": {
  "kernelspec": {
   "display_name": "Python 3",
   "language": "python",
   "name": "python3"
  },
  "language_info": {
   "codemirror_mode": {
    "name": "ipython",
    "version": 3
   },
   "file_extension": ".py",
   "mimetype": "text/x-python",
   "name": "python",
   "nbconvert_exporter": "python",
   "pygments_lexer": "ipython3",
   "version": "3.7.6"
  }
 },
 "nbformat": 4,
 "nbformat_minor": 4
}
