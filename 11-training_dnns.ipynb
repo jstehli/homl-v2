{
 "cells": [
  {
   "cell_type": "code",
   "execution_count": 1,
   "metadata": {},
   "outputs": [],
   "source": [
    "import tensorflow as tf\n",
    "from tensorflow import keras"
   ]
  },
  {
   "cell_type": "code",
   "execution_count": 2,
   "metadata": {},
   "outputs": [],
   "source": [
    "model = keras.models.Sequential()\n",
    "model.add(keras.layers.Flatten(input_shape=[32,32,3]))\n",
    "\n",
    "for l in range(20):\n",
    "    model.add(keras.layers.Dense(100, activation=\"elu\", kernel_initializer=\"he_normal\"))\n",
    "\n",
    "model.add(keras.layers.Dense(10, activation=\"softmax\"))"
   ]
  },
  {
   "cell_type": "code",
   "execution_count": 3,
   "metadata": {},
   "outputs": [],
   "source": [
    "cifar10 = keras.datasets.cifar10\n",
    "(X_train_full, y_train_full), (X_test, y_test) = cifar10.load_data()"
   ]
  },
  {
   "cell_type": "code",
   "execution_count": 4,
   "metadata": {},
   "outputs": [],
   "source": [
    "X_valid, X_train = X_train_full[:5000] / 255.0, X_train_full[5000:] / 255.0\n",
    "y_valid, y_train = y_train_full[:5000], y_train_full[5000:]\n",
    "X_test = X_test / 255.0"
   ]
  },
  {
   "cell_type": "code",
   "execution_count": 5,
   "metadata": {},
   "outputs": [
    {
     "data": {
      "text/plain": [
       "((45000, 32, 32, 3),\n",
       " (5000, 32, 32, 3),\n",
       " (10000, 32, 32, 3),\n",
       " (45000, 1),\n",
       " (5000, 1),\n",
       " (10000, 1))"
      ]
     },
     "execution_count": 5,
     "metadata": {},
     "output_type": "execute_result"
    }
   ],
   "source": [
    "(X_train.shape, X_valid.shape, X_test.shape, y_train.shape, y_valid.shape, y_test.shape)"
   ]
  },
  {
   "cell_type": "code",
   "execution_count": 6,
   "metadata": {},
   "outputs": [],
   "source": [
    "optimizer = keras.optimizers.Nadam(learning_rate=0.001, beta_1=0.9, beta_2=0.999)\n",
    "early_stopping_cb = keras.callbacks.EarlyStopping(patience=10, restore_best_weights=True)"
   ]
  },
  {
   "cell_type": "code",
   "execution_count": 7,
   "metadata": {},
   "outputs": [],
   "source": [
    "y_train = keras.utils.to_categorical(y_train, num_classes=10)\n",
    "y_valid = keras.utils.to_categorical(y_valid, num_classes=10)\n",
    "y_test = keras.utils.to_categorical(y_test, num_classes=10)"
   ]
  },
  {
   "cell_type": "code",
   "execution_count": 8,
   "metadata": {},
   "outputs": [],
   "source": [
    "model.compile(optimizer=optimizer,\n",
    "              metrics=[\"accuracy\"],\n",
    "              loss=\"categorical_crossentropy\")"
   ]
  },
  {
   "cell_type": "code",
   "execution_count": 9,
   "metadata": {},
   "outputs": [
    {
     "name": "stdout",
     "output_type": "stream",
     "text": [
      "Train on 45000 samples, validate on 5000 samples\n",
      "Epoch 1/500\n",
      "45000/45000 [==============================] - 19s 428us/sample - loss: 2.0820 - accuracy: 0.2409 - val_loss: 1.9513 - val_accuracy: 0.2780\n",
      "Epoch 2/500\n",
      "45000/45000 [==============================] - 13s 284us/sample - loss: 1.8566 - accuracy: 0.3241 - val_loss: 1.9134 - val_accuracy: 0.2804\n",
      "Epoch 3/500\n",
      "45000/45000 [==============================] - 14s 312us/sample - loss: 1.7795 - accuracy: 0.3580 - val_loss: 1.8230 - val_accuracy: 0.3372\n",
      "Epoch 4/500\n",
      "45000/45000 [==============================] - 17s 377us/sample - loss: 1.7279 - accuracy: 0.3810 - val_loss: 1.6975 - val_accuracy: 0.3892\n",
      "Epoch 5/500\n",
      "45000/45000 [==============================] - 17s 378us/sample - loss: 1.7243 - accuracy: 0.3779 - val_loss: 1.8313 - val_accuracy: 0.3534\n",
      "Epoch 6/500\n",
      "45000/45000 [==============================] - 16s 350us/sample - loss: 1.6766 - accuracy: 0.4048 - val_loss: 1.7260 - val_accuracy: 0.3840\n",
      "Epoch 7/500\n",
      "45000/45000 [==============================] - 16s 365us/sample - loss: 1.6505 - accuracy: 0.4129 - val_loss: 1.6738 - val_accuracy: 0.4024\n",
      "Epoch 8/500\n",
      "45000/45000 [==============================] - 16s 367us/sample - loss: 1.6259 - accuracy: 0.4208 - val_loss: 1.6531 - val_accuracy: 0.4132\n",
      "Epoch 9/500\n",
      "45000/45000 [==============================] - 16s 353us/sample - loss: 1.5997 - accuracy: 0.4327 - val_loss: 1.6414 - val_accuracy: 0.4240\n",
      "Epoch 10/500\n",
      "45000/45000 [==============================] - 19s 413us/sample - loss: 1.6133 - accuracy: 0.4267 - val_loss: 1.7649 - val_accuracy: 0.3842\n",
      "Epoch 11/500\n",
      "45000/45000 [==============================] - 20s 435us/sample - loss: 1.5706 - accuracy: 0.4440 - val_loss: 1.6067 - val_accuracy: 0.4270\n",
      "Epoch 12/500\n",
      "45000/45000 [==============================] - 20s 439us/sample - loss: 1.5565 - accuracy: 0.4498 - val_loss: 1.6257 - val_accuracy: 0.4308\n",
      "Epoch 13/500\n",
      "45000/45000 [==============================] - 32s 704us/sample - loss: 1.5467 - accuracy: 0.4539 - val_loss: 1.6258 - val_accuracy: 0.4386\n",
      "Epoch 14/500\n",
      "45000/45000 [==============================] - 28s 613us/sample - loss: 1.5349 - accuracy: 0.4577 - val_loss: 5.3168 - val_accuracy: 0.4288\n",
      "Epoch 15/500\n",
      "45000/45000 [==============================] - 34s 758us/sample - loss: 2.0500 - accuracy: 0.2711 - val_loss: 1.8259 - val_accuracy: 0.3086\n",
      "Epoch 16/500\n",
      "45000/45000 [==============================] - 30s 661us/sample - loss: 1.7173 - accuracy: 0.3672 - val_loss: 1.7219 - val_accuracy: 0.3706\n",
      "Epoch 17/500\n",
      "45000/45000 [==============================] - 24s 538us/sample - loss: 1.6466 - accuracy: 0.4038 - val_loss: 1.7072 - val_accuracy: 0.3814\n",
      "Epoch 18/500\n",
      "45000/45000 [==============================] - 24s 540us/sample - loss: 1.6100 - accuracy: 0.4180 - val_loss: 1.6393 - val_accuracy: 0.4166\n",
      "Epoch 19/500\n",
      "45000/45000 [==============================] - 24s 528us/sample - loss: 2.5858 - accuracy: 0.3558 - val_loss: 1.9980 - val_accuracy: 0.2330\n",
      "Epoch 20/500\n",
      "45000/45000 [==============================] - 21s 473us/sample - loss: 1.8980 - accuracy: 0.2739 - val_loss: 1.8735 - val_accuracy: 0.2850\n",
      "Epoch 21/500\n",
      "45000/45000 [==============================] - 17s 377us/sample - loss: 1.8023 - accuracy: 0.3190 - val_loss: 1.7823 - val_accuracy: 0.3270\n"
     ]
    }
   ],
   "source": [
    "history1 = model.fit(X_train, y_train, epochs=500,\n",
    "                     validation_data=(X_valid, y_valid),\n",
    "                     callbacks=[early_stopping_cb])"
   ]
  },
  {
   "cell_type": "code",
   "execution_count": 10,
   "metadata": {},
   "outputs": [],
   "source": [
    "model2 = keras.models.Sequential()\n",
    "model2.add(keras.layers.Flatten(input_shape=[32,32,3]))\n",
    "model2.add(keras.layers.BatchNormalization())\n",
    "\n",
    "for l in range(20):\n",
    "    model2.add(keras.layers.Dense(100, activation=\"elu\", kernel_initializer=\"he_normal\"))\n",
    "    model2.add(keras.layers.BatchNormalization())\n",
    "\n",
    "model2.add(keras.layers.Dense(10, activation=\"softmax\"))"
   ]
  },
  {
   "cell_type": "code",
   "execution_count": 11,
   "metadata": {},
   "outputs": [],
   "source": [
    "model2.compile(optimizer=optimizer,\n",
    "              metrics=[\"accuracy\"],\n",
    "              loss=\"categorical_crossentropy\")"
   ]
  },
  {
   "cell_type": "code",
   "execution_count": 12,
   "metadata": {},
   "outputs": [
    {
     "name": "stdout",
     "output_type": "stream",
     "text": [
      "Train on 45000 samples, validate on 5000 samples\n",
      "Epoch 1/500\n",
      "45000/45000 [==============================] - 35s 771us/sample - loss: 1.9327 - accuracy: 0.2938 - val_loss: 1.7646 - val_accuracy: 0.3510\n",
      "Epoch 2/500\n",
      "45000/45000 [==============================] - 25s 553us/sample - loss: 1.7491 - accuracy: 0.3678 - val_loss: 1.6490 - val_accuracy: 0.4056\n",
      "Epoch 3/500\n",
      "45000/45000 [==============================] - 26s 578us/sample - loss: 1.6586 - accuracy: 0.4079 - val_loss: 1.5925 - val_accuracy: 0.4370\n",
      "Epoch 4/500\n",
      "45000/45000 [==============================] - 25s 562us/sample - loss: 1.5957 - accuracy: 0.4318 - val_loss: 1.5177 - val_accuracy: 0.4562\n",
      "Epoch 5/500\n",
      "45000/45000 [==============================] - 25s 559us/sample - loss: 1.5523 - accuracy: 0.4494 - val_loss: 1.4672 - val_accuracy: 0.4806\n",
      "Epoch 6/500\n",
      "45000/45000 [==============================] - 26s 571us/sample - loss: 1.5152 - accuracy: 0.4635 - val_loss: 1.4483 - val_accuracy: 0.4824\n",
      "Epoch 7/500\n",
      "45000/45000 [==============================] - 26s 569us/sample - loss: 1.4808 - accuracy: 0.4752 - val_loss: 1.4508 - val_accuracy: 0.4906\n",
      "Epoch 8/500\n",
      "45000/45000 [==============================] - 26s 567us/sample - loss: 1.4516 - accuracy: 0.4871 - val_loss: 1.4520 - val_accuracy: 0.4926\n",
      "Epoch 9/500\n",
      "45000/45000 [==============================] - 26s 575us/sample - loss: 1.4165 - accuracy: 0.4978 - val_loss: 1.4310 - val_accuracy: 0.4984\n",
      "Epoch 10/500\n",
      "45000/45000 [==============================] - 26s 580us/sample - loss: 1.3981 - accuracy: 0.5078 - val_loss: 1.4072 - val_accuracy: 0.5010\n",
      "Epoch 11/500\n",
      "45000/45000 [==============================] - 24s 527us/sample - loss: 1.3739 - accuracy: 0.5156 - val_loss: 1.3914 - val_accuracy: 0.5006\n",
      "Epoch 12/500\n",
      "45000/45000 [==============================] - 24s 532us/sample - loss: 1.3512 - accuracy: 0.5246 - val_loss: 1.3909 - val_accuracy: 0.5124\n",
      "Epoch 13/500\n",
      "45000/45000 [==============================] - 26s 567us/sample - loss: 1.3317 - accuracy: 0.5300 - val_loss: 1.4017 - val_accuracy: 0.5020\n",
      "Epoch 14/500\n",
      "45000/45000 [==============================] - 23s 515us/sample - loss: 1.3112 - accuracy: 0.5388 - val_loss: 1.3562 - val_accuracy: 0.5252\n",
      "Epoch 15/500\n",
      "45000/45000 [==============================] - 24s 525us/sample - loss: 1.2890 - accuracy: 0.5469 - val_loss: 1.3658 - val_accuracy: 0.5148\n",
      "Epoch 16/500\n",
      "45000/45000 [==============================] - 24s 525us/sample - loss: 1.2790 - accuracy: 0.5513 - val_loss: 1.3728 - val_accuracy: 0.5202\n",
      "Epoch 17/500\n",
      "45000/45000 [==============================] - 28s 616us/sample - loss: 1.2609 - accuracy: 0.5584 - val_loss: 1.3452 - val_accuracy: 0.5298\n",
      "Epoch 18/500\n",
      "45000/45000 [==============================] - 30s 673us/sample - loss: 1.2426 - accuracy: 0.5672 - val_loss: 1.3827 - val_accuracy: 0.5242\n",
      "Epoch 19/500\n",
      "45000/45000 [==============================] - 25s 561us/sample - loss: 1.2282 - accuracy: 0.5699 - val_loss: 1.3662 - val_accuracy: 0.5306\n",
      "Epoch 20/500\n",
      "45000/45000 [==============================] - 30s 659us/sample - loss: 1.2173 - accuracy: 0.5731 - val_loss: 1.3748 - val_accuracy: 0.5290\n",
      "Epoch 21/500\n",
      "45000/45000 [==============================] - 26s 573us/sample - loss: 1.2039 - accuracy: 0.5810 - val_loss: 1.3461 - val_accuracy: 0.5356\n",
      "Epoch 22/500\n",
      "45000/45000 [==============================] - 21s 472us/sample - loss: 1.1861 - accuracy: 0.5848 - val_loss: 1.3801 - val_accuracy: 0.5264\n",
      "Epoch 23/500\n",
      "45000/45000 [==============================] - 24s 528us/sample - loss: 1.1762 - accuracy: 0.5892 - val_loss: 1.3416 - val_accuracy: 0.5360\n",
      "Epoch 24/500\n",
      "45000/45000 [==============================] - 34s 748us/sample - loss: 1.1560 - accuracy: 0.5971 - val_loss: 1.3404 - val_accuracy: 0.5386\n",
      "Epoch 25/500\n",
      "45000/45000 [==============================] - 27s 608us/sample - loss: 1.1561 - accuracy: 0.5964 - val_loss: 1.3450 - val_accuracy: 0.5346\n",
      "Epoch 26/500\n",
      "45000/45000 [==============================] - 25s 566us/sample - loss: 1.1420 - accuracy: 0.6019 - val_loss: 1.3828 - val_accuracy: 0.5332\n",
      "Epoch 27/500\n",
      "45000/45000 [==============================] - 36s 806us/sample - loss: 1.1261 - accuracy: 0.6037 - val_loss: 1.3637 - val_accuracy: 0.5324\n",
      "Epoch 28/500\n",
      "45000/45000 [==============================] - 27s 591us/sample - loss: 1.1212 - accuracy: 0.6064 - val_loss: 1.3633 - val_accuracy: 0.5362\n",
      "Epoch 29/500\n",
      "45000/45000 [==============================] - 32s 716us/sample - loss: 1.1128 - accuracy: 0.6118 - val_loss: 1.3614 - val_accuracy: 0.5352\n",
      "Epoch 30/500\n",
      "45000/45000 [==============================] - 26s 575us/sample - loss: 1.0963 - accuracy: 0.6178 - val_loss: 1.3680 - val_accuracy: 0.5298\n",
      "Epoch 31/500\n",
      "45000/45000 [==============================] - 25s 548us/sample - loss: 1.0869 - accuracy: 0.6221 - val_loss: 1.3578 - val_accuracy: 0.5404\n",
      "Epoch 32/500\n",
      "45000/45000 [==============================] - 29s 654us/sample - loss: 1.0837 - accuracy: 0.6190 - val_loss: 1.3517 - val_accuracy: 0.5444\n",
      "Epoch 33/500\n",
      "45000/45000 [==============================] - 34s 750us/sample - loss: 1.0715 - accuracy: 0.6263 - val_loss: 1.3762 - val_accuracy: 0.5412\n",
      "Epoch 34/500\n",
      "45000/45000 [==============================] - 32s 720us/sample - loss: 1.0680 - accuracy: 0.6283 - val_loss: 1.3684 - val_accuracy: 0.5342\n"
     ]
    }
   ],
   "source": [
    "history2 = model2.fit(X_train, y_train, epochs=500,\n",
    "                     validation_data=(X_valid, y_valid),\n",
    "                     callbacks=[early_stopping_cb])"
   ]
  },
  {
   "cell_type": "code",
   "execution_count": 26,
   "metadata": {},
   "outputs": [
    {
     "data": {
      "image/png": "[encoded data removed]",
      "text/plain": [
       "<Figure size 576x360 with 1 Axes>"
      ]
     },
     "metadata": {
      "needs_background": "light"
     },
     "output_type": "display_data"
    }
   ],
   "source": [
    "import pandas as pd\n",
    "import matplotlib.pyplot as plt\n",
    "%matplotlib inline\n",
    "\n",
    "pd.DataFrame(history1.history).plot(figsize=(8,5))\n",
    "plt.grid(True)\n",
    "plt.ylim(0, 1)\n",
    "plt.show()"
   ]
  },
  {
   "cell_type": "code",
   "execution_count": 25,
   "metadata": {},
   "outputs": [
    {
     "data": {
      "image/png": "[encoded data removed]",
      "text/plain": [
       "<Figure size 576x360 with 1 Axes>"
      ]
     },
     "metadata": {
      "needs_background": "light"
     },
     "output_type": "display_data"
    }
   ],
   "source": [
    "pd.DataFrame(history2.history).plot(figsize=(8,5))\n",
    "plt.grid(True)\n",
    "plt.ylim(0, 1)\n",
    "plt.show()"
   ]
  },
  {
   "cell_type": "code",
   "execution_count": 8,
   "metadata": {},
   "outputs": [],
   "source": [
    "pixel_means = X_train.mean(axis=0, keepdims=True)\n",
    "pixel_stds = X_train.std(axis=0, keepdims=True)\n",
    "X_train_scaled = (X_train - pixel_means) / pixel_stds\n",
    "X_valid_scaled = (X_valid - pixel_means) / pixel_stds\n",
    "X_test_scaled = (X_test - pixel_means) / pixel_stds"
   ]
  },
  {
   "cell_type": "code",
   "execution_count": 10,
   "metadata": {},
   "outputs": [],
   "source": [
    "model3 = keras.models.Sequential()\n",
    "model3.add(keras.layers.Flatten(input_shape=[32,32,3]))\n",
    "\n",
    "for l in range(20):\n",
    "    model3.add(keras.layers.Dense(100, activation=\"selu\", kernel_initializer=\"lecun_normal\"))\n",
    "\n",
    "model3.add(keras.layers.Dense(10, activation=\"softmax\"))"
   ]
  },
  {
   "cell_type": "code",
   "execution_count": 11,
   "metadata": {},
   "outputs": [
    {
     "name": "stdout",
     "output_type": "stream",
     "text": [
      "Train on 45000 samples, validate on 5000 samples\n",
      "Epoch 1/500\n",
      "45000/45000 [==============================] - 21s 469us/sample - loss: 1.9831 - accuracy: 0.2799 - val_loss: 1.9510 - val_accuracy: 0.3250\n",
      "Epoch 2/500\n",
      "45000/45000 [==============================] - 17s 368us/sample - loss: 1.7640 - accuracy: 0.3690 - val_loss: 1.8353 - val_accuracy: 0.3400\n",
      "Epoch 3/500\n",
      "45000/45000 [==============================] - 20s 447us/sample - loss: 1.6727 - accuracy: 0.4075 - val_loss: 1.8403 - val_accuracy: 0.3490\n",
      "Epoch 4/500\n",
      "45000/45000 [==============================] - 23s 510us/sample - loss: 1.6054 - accuracy: 0.4318 - val_loss: 1.6142 - val_accuracy: 0.4262\n",
      "Epoch 5/500\n",
      "45000/45000 [==============================] - 20s 446us/sample - loss: 1.5489 - accuracy: 0.4515 - val_loss: 1.5997 - val_accuracy: 0.4314\n",
      "Epoch 6/500\n",
      "45000/45000 [==============================] - 17s 377us/sample - loss: 1.5140 - accuracy: 0.4640 - val_loss: 1.6287 - val_accuracy: 0.4322\n",
      "Epoch 7/500\n",
      "45000/45000 [==============================] - 17s 376us/sample - loss: 1.4717 - accuracy: 0.4782 - val_loss: 1.5705 - val_accuracy: 0.4628\n",
      "Epoch 8/500\n",
      "45000/45000 [==============================] - 18s 400us/sample - loss: 1.4320 - accuracy: 0.4987 - val_loss: 1.5863 - val_accuracy: 0.4490\n",
      "Epoch 9/500\n",
      "45000/45000 [==============================] - 18s 400us/sample - loss: 1.3970 - accuracy: 0.5086 - val_loss: 1.5727 - val_accuracy: 0.4588\n",
      "Epoch 10/500\n",
      "45000/45000 [==============================] - 16s 346us/sample - loss: 1.3636 - accuracy: 0.5176 - val_loss: 1.5542 - val_accuracy: 0.4560\n",
      "Epoch 11/500\n",
      "45000/45000 [==============================] - 16s 352us/sample - loss: 1.3694 - accuracy: 0.5243 - val_loss: 1.6475 - val_accuracy: 0.4222\n",
      "Epoch 12/500\n",
      "45000/45000 [==============================] - 16s 349us/sample - loss: 1.3736 - accuracy: 0.5116 - val_loss: 1.5205 - val_accuracy: 0.4656\n",
      "Epoch 13/500\n",
      "45000/45000 [==============================] - 16s 360us/sample - loss: 1.2776 - accuracy: 0.5474 - val_loss: 1.5590 - val_accuracy: 0.4778\n",
      "Epoch 14/500\n",
      "45000/45000 [==============================] - 16s 358us/sample - loss: 1.2522 - accuracy: 0.5581 - val_loss: 1.5262 - val_accuracy: 0.4882\n",
      "Epoch 15/500\n",
      "45000/45000 [==============================] - 15s 344us/sample - loss: 1.3128 - accuracy: 0.5325 - val_loss: 1.5204 - val_accuracy: 0.4702\n",
      "Epoch 16/500\n",
      "45000/45000 [==============================] - 16s 348us/sample - loss: 1.2201 - accuracy: 0.5698 - val_loss: 1.5111 - val_accuracy: 0.4774\n",
      "Epoch 17/500\n",
      "45000/45000 [==============================] - 16s 366us/sample - loss: 1.1977 - accuracy: 0.5756 - val_loss: 1.5372 - val_accuracy: 0.4840\n",
      "Epoch 18/500\n",
      "45000/45000 [==============================] - 16s 349us/sample - loss: 1.1723 - accuracy: 0.5850 - val_loss: 1.5042 - val_accuracy: 0.4986\n",
      "Epoch 19/500\n",
      "45000/45000 [==============================] - 15s 341us/sample - loss: 1.1616 - accuracy: 0.5941 - val_loss: 1.5990 - val_accuracy: 0.4920\n",
      "Epoch 20/500\n",
      "45000/45000 [==============================] - 16s 345us/sample - loss: 1.1375 - accuracy: 0.6006 - val_loss: 1.5560 - val_accuracy: 0.4828\n",
      "Epoch 21/500\n",
      "45000/45000 [==============================] - 16s 348us/sample - loss: 1.1227 - accuracy: 0.6073 - val_loss: 1.5297 - val_accuracy: 0.4984\n",
      "Epoch 22/500\n",
      "45000/45000 [==============================] - 16s 346us/sample - loss: 1.2593 - accuracy: 0.5641 - val_loss: 1.5493 - val_accuracy: 0.4714\n",
      "Epoch 23/500\n",
      "45000/45000 [==============================] - 16s 350us/sample - loss: 1.1436 - accuracy: 0.5964 - val_loss: 1.5528 - val_accuracy: 0.4892\n",
      "Epoch 24/500\n",
      "45000/45000 [==============================] - 17s 387us/sample - loss: 1.0924 - accuracy: 0.6148 - val_loss: 1.5160 - val_accuracy: 0.4954\n",
      "Epoch 25/500\n",
      "45000/45000 [==============================] - 17s 386us/sample - loss: 1.0574 - accuracy: 0.6291 - val_loss: 1.5547 - val_accuracy: 0.4934\n",
      "Epoch 26/500\n",
      "45000/45000 [==============================] - 17s 375us/sample - loss: 1.0411 - accuracy: 0.6337 - val_loss: 1.5517 - val_accuracy: 0.4982\n",
      "Epoch 27/500\n",
      "45000/45000 [==============================] - 16s 351us/sample - loss: 1.0188 - accuracy: 0.6426 - val_loss: 1.6151 - val_accuracy: 0.5034\n",
      "Epoch 28/500\n",
      "45000/45000 [==============================] - 16s 346us/sample - loss: 1.0053 - accuracy: 0.6506 - val_loss: 1.5785 - val_accuracy: 0.5038\n"
     ]
    }
   ],
   "source": [
    "model3.compile(optimizer=optimizer,\n",
    "               metrics=[\"accuracy\"],\n",
    "               loss=\"categorical_crossentropy\")\n",
    "history3 = model3.fit(X_train_scaled, y_train, epochs=500,\n",
    "                     validation_data=(X_valid_scaled, y_valid),\n",
    "                     callbacks=[early_stopping_cb])"
   ]
  },
  {
   "cell_type": "code",
   "execution_count": 12,
   "metadata": {},
   "outputs": [
    {
     "data": {
      "image/png": "[encoded data removed]",
      "text/plain": [
       "<Figure size 576x360 with 1 Axes>"
      ]
     },
     "metadata": {
      "needs_background": "light"
     },
     "output_type": "display_data"
    }
   ],
   "source": [
    "import pandas as pd\n",
    "import matplotlib.pyplot as plt\n",
    "%matplotlib inline\n",
    "\n",
    "pd.DataFrame(history3.history).plot(figsize=(8,5))\n",
    "plt.grid(True)\n",
    "plt.ylim(0, 1)\n",
    "plt.show()"
   ]
  },
  {
   "cell_type": "code",
   "execution_count": 9,
   "metadata": {},
   "outputs": [],
   "source": [
    "model4 = keras.models.Sequential()\n",
    "model4.add(keras.layers.Flatten(input_shape=[32,32,3]))\n",
    "model4.add(keras.layers.AlphaDropout(rate=0.1))\n",
    "\n",
    "for l in range(20):\n",
    "    model4.add(keras.layers.Dense(100, activation=\"selu\", kernel_initializer=\"lecun_normal\"))\n",
    "    model4.add(keras.layers.AlphaDropout(rate=0.1))\n",
    "\n",
    "model4.add(keras.layers.Dense(10, activation=\"softmax\"))"
   ]
  },
  {
   "cell_type": "code",
   "execution_count": 10,
   "metadata": {},
   "outputs": [
    {
     "name": "stdout",
     "output_type": "stream",
     "text": [
      "Train on 45000 samples, validate on 5000 samples\n",
      "Epoch 1/500\n",
      "45000/45000 [==============================] - 28s 626us/sample - loss: 2.1297 - accuracy: 0.2026 - val_loss: 5.1366 - val_accuracy: 0.2566\n",
      "Epoch 2/500\n",
      "45000/45000 [==============================] - 24s 527us/sample - loss: 1.9437 - accuracy: 0.2569 - val_loss: 10.5785 - val_accuracy: 0.2392\n",
      "Epoch 3/500\n",
      "45000/45000 [==============================] - 23s 507us/sample - loss: 1.9080 - accuracy: 0.2777 - val_loss: 6.0868 - val_accuracy: 0.2698\n",
      "Epoch 4/500\n",
      "45000/45000 [==============================] - 20s 453us/sample - loss: 1.8794 - accuracy: 0.2948 - val_loss: 5.4643 - val_accuracy: 0.3010\n",
      "Epoch 5/500\n",
      "45000/45000 [==============================] - 20s 455us/sample - loss: 1.8716 - accuracy: 0.2993 - val_loss: 11.2446 - val_accuracy: 0.2794\n",
      "Epoch 6/500\n",
      "45000/45000 [==============================] - 20s 453us/sample - loss: 1.8564 - accuracy: 0.3018 - val_loss: 6.9908 - val_accuracy: 0.3142\n",
      "Epoch 7/500\n",
      "45000/45000 [==============================] - 19s 432us/sample - loss: 1.8436 - accuracy: 0.3063 - val_loss: 4.9208 - val_accuracy: 0.2842\n",
      "Epoch 8/500\n",
      "45000/45000 [==============================] - 17s 383us/sample - loss: 1.8358 - accuracy: 0.3124 - val_loss: 8.9187 - val_accuracy: 0.2958\n",
      "Epoch 9/500\n",
      "45000/45000 [==============================] - 20s 452us/sample - loss: 1.8306 - accuracy: 0.3181 - val_loss: 8.4453 - val_accuracy: 0.3160\n",
      "Epoch 10/500\n",
      "45000/45000 [==============================] - 19s 432us/sample - loss: 1.8392 - accuracy: 0.3230 - val_loss: 6.4001 - val_accuracy: 0.3214\n",
      "Epoch 11/500\n",
      "45000/45000 [==============================] - 20s 441us/sample - loss: 1.8280 - accuracy: 0.3178 - val_loss: 6.7622 - val_accuracy: 0.3146\n",
      "Epoch 12/500\n",
      "45000/45000 [==============================] - 23s 501us/sample - loss: 1.8359 - accuracy: 0.3130 - val_loss: 5.0610 - val_accuracy: 0.3008\n",
      "Epoch 13/500\n",
      "45000/45000 [==============================] - 24s 537us/sample - loss: 1.8531 - accuracy: 0.3027 - val_loss: 4.1433 - val_accuracy: 0.2832\n",
      "Epoch 14/500\n",
      "45000/45000 [==============================] - 26s 574us/sample - loss: 1.8403 - accuracy: 0.3097 - val_loss: 5.2384 - val_accuracy: 0.3160\n",
      "Epoch 15/500\n",
      "45000/45000 [==============================] - 26s 577us/sample - loss: 1.8470 - accuracy: 0.3140 - val_loss: 3.8998 - val_accuracy: 0.3226\n",
      "Epoch 16/500\n",
      "45000/45000 [==============================] - 26s 580us/sample - loss: 1.8977 - accuracy: 0.3090 - val_loss: 7.2324 - val_accuracy: 0.3142\n",
      "Epoch 17/500\n",
      "45000/45000 [==============================] - 27s 592us/sample - loss: 1.8313 - accuracy: 0.3154 - val_loss: 6.0157 - val_accuracy: 0.3034\n",
      "Epoch 18/500\n",
      "45000/45000 [==============================] - 26s 578us/sample - loss: 1.8388 - accuracy: 0.3062 - val_loss: 7.1451 - val_accuracy: 0.3142\n",
      "Epoch 19/500\n",
      "45000/45000 [==============================] - 26s 574us/sample - loss: 1.8135 - accuracy: 0.3153 - val_loss: 5.3620 - val_accuracy: 0.2906\n",
      "Epoch 20/500\n",
      "45000/45000 [==============================] - 26s 574us/sample - loss: 1.8447 - accuracy: 0.3006 - val_loss: 7.3697 - val_accuracy: 0.2612\n",
      "Epoch 21/500\n",
      "45000/45000 [==============================] - 30s 668us/sample - loss: 1.8535 - accuracy: 0.3081 - val_loss: 4.7088 - val_accuracy: 0.3178\n",
      "Epoch 22/500\n",
      "45000/45000 [==============================] - 28s 628us/sample - loss: 1.8015 - accuracy: 0.3259 - val_loss: 5.0755 - val_accuracy: 0.3194\n",
      "Epoch 23/500\n",
      "45000/45000 [==============================] - 26s 568us/sample - loss: 1.8162 - accuracy: 0.3264 - val_loss: 4.0834 - val_accuracy: 0.3178\n",
      "Epoch 24/500\n",
      "45000/45000 [==============================] - 26s 576us/sample - loss: 1.8335 - accuracy: 0.3258 - val_loss: 6.0441 - val_accuracy: 0.3104\n",
      "Epoch 25/500\n",
      "45000/45000 [==============================] - 25s 563us/sample - loss: 1.8729 - accuracy: 0.2941 - val_loss: 4.4988 - val_accuracy: 0.2706\n"
     ]
    }
   ],
   "source": [
    "model4.compile(optimizer=optimizer,\n",
    "               metrics=[\"accuracy\"],\n",
    "               loss=\"categorical_crossentropy\")\n",
    "history4 = model4.fit(X_train_scaled, y_train, epochs=500,\n",
    "                     validation_data=(X_valid_scaled, y_valid),\n",
    "                     callbacks=[early_stopping_cb])"
   ]
  },
  {
   "cell_type": "code",
   "execution_count": 12,
   "metadata": {},
   "outputs": [
    {
     "data": {
      "image/png": "[encoded data removed]",
      "text/plain": [
       "<Figure size 576x360 with 1 Axes>"
      ]
     },
     "metadata": {
      "needs_background": "light"
     },
     "output_type": "display_data"
    }
   ],
   "source": [
    "import pandas as pd\n",
    "import matplotlib.pyplot as plt\n",
    "%matplotlib inline\n",
    "\n",
    "pd.DataFrame(history4.history).plot(figsize=(8,5))\n",
    "plt.grid(True)\n",
    "plt.ylim(0, 1)\n",
    "plt.show()"
   ]
  },
  {
   "cell_type": "code",
   "execution_count": 14,
   "metadata": {},
   "outputs": [
    {
     "name": "stdout",
     "output_type": "stream",
     "text": [
      "alpha dropout accuracy: 0.0751\n"
     ]
    }
   ],
   "source": [
    "import numpy as np\n",
    "\n",
    "y_pred_alpha = model4(X_test_scaled)\n",
    "accuracy_alpha_dropout = np.sum(y_pred_alpha == y_test) / len(X_test)\n",
    "print(\"alpha dropout accuracy: \" + str(accuracy_alpha_dropout))"
   ]
  },
  {
   "cell_type": "code",
   "execution_count": null,
   "metadata": {},
   "outputs": [],
   "source": [
    "y_probas = np.stack([model4(X_test_scaled, training=True)\n",
    "                     for sample in range(100)])\n",
    "y_proba = y_probas.mean(axis=0)\n",
    "y_pred = np.argmax(y_proba, axis=1)"
   ]
  },
  {
   "cell_type": "code",
   "execution_count": null,
   "metadata": {},
   "outputs": [],
   "source": [
    "K = keras.backend\n",
    "\n",
    "class ExponentialLearningRate(keras.callbacks.Callback):\n",
    "    def __init__(self, factor):\n",
    "        self.factor = factor\n",
    "        self.rates = []\n",
    "        self.losses = []\n",
    "    def on_batch_end(self, batch, logs):\n",
    "        self.rates.append(K.get_value(self.model.optimizer.lr))\n",
    "        self.losses.append(logs[\"loss\"])\n",
    "        K.set_value(self.model.optimizer.lr, self.model.optimizer.lr * self.factor)\n",
    "\n",
    "def find_learning_rate(model, X, y, epochs=1, batch_size=32, min_rate=10**-5, max_rate=10):\n",
    "    init_weights = model.get_weights()\n",
    "    iterations = len(X) // batch_size * epochs\n",
    "    factor = np.exp(np.log(max_rate / min_rate) / iterations)\n",
    "    init_lr = K.get_value(model.optimizer.lr)\n",
    "    K.set_value(model.optimizer.lr, min_rate)\n",
    "    exp_lr = ExponentialLearningRate(factor)\n",
    "    history = model.fit(X, y, epochs=epochs, batch_size=batch_size,\n",
    "                        callbacks=[exp_lr])\n",
    "    K.set_value(model.optimizer.lr, init_lr)\n",
    "    model.set_weights(init_weights)\n",
    "    return exp_lr.rates, exp_lr.losses\n",
    "\n",
    "def plot_lr_vs_loss(rates, losses):\n",
    "    plt.plot(rates, losses)\n",
    "    plt.gca().set_xscale('log')\n",
    "    plt.hlines(min(losses), min(rates), max(rates))\n",
    "    plt.axis([min(rates), max(rates), min(losses), (losses[0] + min(losses)) / 2])\n",
    "    plt.xlabel(\"Learning rate\")\n",
    "    plt.ylabel(\"Loss\")"
   ]
  }
 ],
 "metadata": {
  "kernelspec": {
   "display_name": "Python 3",
   "language": "python",
   "name": "python3"
  },
  "language_info": {
   "codemirror_mode": {
    "name": "ipython",
    "version": 3
   },
   "file_extension": ".py",
   "mimetype": "text/x-python",
   "name": "python",
   "nbconvert_exporter": "python",
   "pygments_lexer": "ipython3",
   "version": "3.7.6"
  }
 },
 "nbformat": 4,
 "nbformat_minor": 4
}
