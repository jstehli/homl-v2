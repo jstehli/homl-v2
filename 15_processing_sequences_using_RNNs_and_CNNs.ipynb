{
  "nbformat": 4,
  "nbformat_minor": 0,
  "metadata": {
    "colab": {
      "name": "15-processing_sequences_using_RNNs_and_CNNs.ipynb",
      "provenance": [],
      "authorship_tag": "ABX9TyOjIOHb0fe9qpD2nwdzg41C"
    },
    "kernelspec": {
      "name": "python3",
      "display_name": "Python 3"
    }
  },
  "cells": [
    {
      "cell_type": "code",
      "metadata": {
        "id": "QAUyhmCvCkHR",
        "colab_type": "code",
        "colab": {}
      },
      "source": [
        ""
      ],
      "execution_count": 0,
      "outputs": []
    }
  ]
}