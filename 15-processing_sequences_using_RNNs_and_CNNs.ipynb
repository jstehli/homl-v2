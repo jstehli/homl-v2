{
 "cells": [
  {
   "cell_type": "markdown",
   "metadata": {},
   "source": [
    "# Exercise 9\n",
    "\n",
    "There is no dataset in tfds called SketchRNN. There is the \"quickdraw_bitmap\" dataset (SketchRNN is a network by the Google Magenta team that was trained on this data), which was too big for me to handle on my laptop, so I'll skip this one."
   ]
  },
  {
   "cell_type": "markdown",
   "metadata": {},
   "source": [
    "# Exercise 10\n",
    "\n",
    "Download the mentioned file. I put it in /15-data/jsb/ and unzipped it with the command:\n",
    "\n",
    "    tar -xvzf jsb_chorales.tgz"
   ]
  },
  {
   "cell_type": "code",
   "execution_count": 2,
   "metadata": {},
   "outputs": [],
   "source": [
    "# some imports\n",
    "\n",
    "import tensorflow as tf\n",
    "from tensorflow import keras\n",
    "import tensorflow.keras.backend as K\n",
    "import matplotlib.pyplot as plt\n",
    "import numpy as np\n",
    "import pandas as pd\n",
    "\n",
    "import tensorflow_datasets as tfds"
   ]
  },
  {
   "cell_type": "code",
   "execution_count": 3,
   "metadata": {},
   "outputs": [],
   "source": [
    "# paths\n",
    "\n",
    "import os\n",
    "\n",
    "dataset_path = os.path.join(\"15-data\", \"jsb\")\n",
    "train_path = os.path.join(dataset_path, \"train\")\n",
    "valid_path = os.path.join(dataset_path, \"valid\")\n",
    "test_path = os.path.join(dataset_path, \"test\")"
   ]
  },
  {
   "cell_type": "code",
   "execution_count": 38,
   "metadata": {},
   "outputs": [],
   "source": [
    "train_files = [train_path + os.path.sep + f for f in os.listdir(train_path)]\n",
    "valid_files = [valid_path + os.path.sep + f for f in os.listdir(valid_path)]\n",
    "test_files = [test_path + os.path.sep + f for f in os.listdir(test_path)]\n",
    "\n",
    "train_dataset = tf.data.Dataset.list_files(train_files)\n",
    "valid_dataset = tf.data.Dataset.list_files(valid_files)\n",
    "test_datased = tf.data.Dataset.list_files(test_files)"
   ]
  },
  {
   "cell_type": "code",
   "execution_count": 39,
   "metadata": {},
   "outputs": [],
   "source": [
    "n_readers = 5\n",
    "\n",
    "def preprocess_data(ex):\n",
    "    textline_data = tf.data.TextLineDataset(ex)\n",
    "    return textline_data\n",
    "\n",
    "train_dataset_preprocessed = train_dataset.flat_map(lambda filename: tf.data.TextLineDataset(filename).skip(1))"
   ]
  },
  {
   "cell_type": "code",
   "execution_count": 40,
   "metadata": {},
   "outputs": [
    {
     "name": "stdout",
     "output_type": "stream",
     "text": [
      "b'74,67,58,43'\n",
      "b'74,67,58,43'\n"
     ]
    }
   ],
   "source": [
    "for line in train_dataset_preprocessed.take(2):\n",
    "    print(line.numpy())"
   ]
  },
  {
   "cell_type": "code",
   "execution_count": null,
   "metadata": {},
   "outputs": [],
   "source": []
  }
 ],
 "metadata": {
  "kernelspec": {
   "display_name": "Python 3",
   "language": "python",
   "name": "python3"
  },
  "language_info": {
   "codemirror_mode": {
    "name": "ipython",
    "version": 3
   },
   "file_extension": ".py",
   "mimetype": "text/x-python",
   "name": "python",
   "nbconvert_exporter": "python",
   "pygments_lexer": "ipython3",
   "version": "3.7.6"
  }
 },
 "nbformat": 4,
 "nbformat_minor": 4
}
