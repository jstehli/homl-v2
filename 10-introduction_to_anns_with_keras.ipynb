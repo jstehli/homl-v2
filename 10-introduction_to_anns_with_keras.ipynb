{
 "cells": [
  {
   "cell_type": "code",
   "execution_count": 1,
   "metadata": {},
   "outputs": [
    {
     "data": {
      "text/plain": [
       "'2.1.0'"
      ]
     },
     "execution_count": 1,
     "metadata": {},
     "output_type": "execute_result"
    }
   ],
   "source": [
    "import tensorflow as tf\n",
    "from tensorflow import keras\n",
    "tf.__version__"
   ]
  },
  {
   "cell_type": "code",
   "execution_count": 2,
   "metadata": {},
   "outputs": [
    {
     "data": {
      "text/plain": [
       "'2.2.4-tf'"
      ]
     },
     "execution_count": 2,
     "metadata": {},
     "output_type": "execute_result"
    }
   ],
   "source": [
    "keras.__version__"
   ]
  },
  {
   "cell_type": "code",
   "execution_count": 3,
   "metadata": {},
   "outputs": [],
   "source": [
    "fashion_mnist = keras.datasets.fashion_mnist\n",
    "(X_train_full, y_train_full), (X_test, y_test) = fashion_mnist.load_data()"
   ]
  },
  {
   "cell_type": "code",
   "execution_count": 4,
   "metadata": {},
   "outputs": [
    {
     "data": {
      "text/plain": [
       "(60000, 28, 28)"
      ]
     },
     "execution_count": 4,
     "metadata": {},
     "output_type": "execute_result"
    }
   ],
   "source": [
    "X_train_full.shape"
   ]
  },
  {
   "cell_type": "code",
   "execution_count": 5,
   "metadata": {},
   "outputs": [
    {
     "data": {
      "text/plain": [
       "dtype('uint8')"
      ]
     },
     "execution_count": 5,
     "metadata": {},
     "output_type": "execute_result"
    }
   ],
   "source": [
    "X_train_full.dtype"
   ]
  },
  {
   "cell_type": "code",
   "execution_count": 6,
   "metadata": {},
   "outputs": [],
   "source": [
    "X_valid, X_train = X_train_full[:5000]/ 255.0, X_train_full[5000:] / 255.0\n",
    "y_valid, y_train = y_train_full[:5000], y_train_full[5000:]"
   ]
  },
  {
   "cell_type": "code",
   "execution_count": 7,
   "metadata": {},
   "outputs": [],
   "source": [
    "class_names = [\"T-shirt/top\", \"Trouser\", \"Pullover\", \"Dress\", \"Coat\",\n",
    "               \"Sandal\", \"Shirt\", \"Sneaker\", \"Bag\", \"Ankle boot\"]"
   ]
  },
  {
   "cell_type": "code",
   "execution_count": 8,
   "metadata": {},
   "outputs": [
    {
     "data": {
      "text/plain": [
       "'Coat'"
      ]
     },
     "execution_count": 8,
     "metadata": {},
     "output_type": "execute_result"
    }
   ],
   "source": [
    "class_names[y_train[0]]"
   ]
  },
  {
   "cell_type": "code",
   "execution_count": 9,
   "metadata": {},
   "outputs": [],
   "source": [
    "model = keras.models.Sequential()\n",
    "model.add(keras.layers.Flatten(input_shape=[28, 28]))\n",
    "model.add(keras.layers.Conv2D(300, 5, activation=\"relu\"))\n",
    "model.add(keras.layers.Dense(100, activation=\"relu\"))\n",
    "model.add(keras.layers.Dense(10, activation=\"softmax\"))"
   ]
  },
  {
   "cell_type": "code",
   "execution_count": 10,
   "metadata": {},
   "outputs": [
    {
     "name": "stdout",
     "output_type": "stream",
     "text": [
      "Model: \"sequential\"\n",
      "_________________________________________________________________\n",
      "Layer (type)                 Output Shape              Param #   \n",
      "=================================================================\n",
      "flatten (Flatten)            (None, 784)               0         \n",
      "_________________________________________________________________\n",
      "dense (Dense)                (None, 300)               235500    \n",
      "_________________________________________________________________\n",
      "dense_1 (Dense)              (None, 100)               30100     \n",
      "_________________________________________________________________\n",
      "dense_2 (Dense)              (None, 10)                1010      \n",
      "=================================================================\n",
      "Total params: 266,610\n",
      "Trainable params: 266,610\n",
      "Non-trainable params: 0\n",
      "_________________________________________________________________\n"
     ]
    }
   ],
   "source": [
    "model.summary()"
   ]
  },
  {
   "cell_type": "code",
   "execution_count": 11,
   "metadata": {},
   "outputs": [],
   "source": [
    "model.compile(loss=\"sparse_categorical_crossentropy\",\n",
    "              optimizer=\"sgd\",\n",
    "              metrics=[\"accuracy\"])"
   ]
  },
  {
   "cell_type": "code",
   "execution_count": 12,
   "metadata": {},
   "outputs": [
    {
     "name": "stdout",
     "output_type": "stream",
     "text": [
      "Train on 55000 samples, validate on 5000 samples\n",
      "Epoch 1/30\n",
      "55000/55000 [==============================] - 23s 426us/sample - loss: 0.7112 - accuracy: 0.7664 - val_loss: 0.5177 - val_accuracy: 0.8224\n",
      "Epoch 2/30\n",
      "51680/55000 [===========================>..] - ETA: 1s - loss: 0.4891 - accuracy: 0.8304"
     ]
    },
    {
     "ename": "KeyboardInterrupt",
     "evalue": "",
     "output_type": "error",
     "traceback": [
      "\u001b[0;31m---------------------------------------------------------------------------\u001b[0m",
      "\u001b[0;31mKeyboardInterrupt\u001b[0m                         Traceback (most recent call last)",
      "\u001b[0;32m<ipython-input-12-52dc76298e8a>\u001b[0m in \u001b[0;36m<module>\u001b[0;34m\u001b[0m\n\u001b[1;32m      1\u001b[0m history = model.fit(X_train, y_train, epochs=30, \n\u001b[0;32m----> 2\u001b[0;31m                     validation_data=(X_valid, y_valid))\n\u001b[0m",
      "\u001b[0;32m~/miniconda3/envs/mlbook/lib/python3.7/site-packages/tensorflow_core/python/keras/engine/training.py\u001b[0m in \u001b[0;36mfit\u001b[0;34m(self, x, y, batch_size, epochs, verbose, callbacks, validation_split, validation_data, shuffle, class_weight, sample_weight, initial_epoch, steps_per_epoch, validation_steps, validation_freq, max_queue_size, workers, use_multiprocessing, **kwargs)\u001b[0m\n\u001b[1;32m    817\u001b[0m         \u001b[0mmax_queue_size\u001b[0m\u001b[0;34m=\u001b[0m\u001b[0mmax_queue_size\u001b[0m\u001b[0;34m,\u001b[0m\u001b[0;34m\u001b[0m\u001b[0;34m\u001b[0m\u001b[0m\n\u001b[1;32m    818\u001b[0m         \u001b[0mworkers\u001b[0m\u001b[0;34m=\u001b[0m\u001b[0mworkers\u001b[0m\u001b[0;34m,\u001b[0m\u001b[0;34m\u001b[0m\u001b[0;34m\u001b[0m\u001b[0m\n\u001b[0;32m--> 819\u001b[0;31m         use_multiprocessing=use_multiprocessing)\n\u001b[0m\u001b[1;32m    820\u001b[0m \u001b[0;34m\u001b[0m\u001b[0m\n\u001b[1;32m    821\u001b[0m   def evaluate(self,\n",
      "\u001b[0;32m~/miniconda3/envs/mlbook/lib/python3.7/site-packages/tensorflow_core/python/keras/engine/training_v2.py\u001b[0m in \u001b[0;36mfit\u001b[0;34m(self, model, x, y, batch_size, epochs, verbose, callbacks, validation_split, validation_data, shuffle, class_weight, sample_weight, initial_epoch, steps_per_epoch, validation_steps, validation_freq, max_queue_size, workers, use_multiprocessing, **kwargs)\u001b[0m\n\u001b[1;32m    340\u001b[0m                 \u001b[0mmode\u001b[0m\u001b[0;34m=\u001b[0m\u001b[0mModeKeys\u001b[0m\u001b[0;34m.\u001b[0m\u001b[0mTRAIN\u001b[0m\u001b[0;34m,\u001b[0m\u001b[0;34m\u001b[0m\u001b[0;34m\u001b[0m\u001b[0m\n\u001b[1;32m    341\u001b[0m                 \u001b[0mtraining_context\u001b[0m\u001b[0;34m=\u001b[0m\u001b[0mtraining_context\u001b[0m\u001b[0;34m,\u001b[0m\u001b[0;34m\u001b[0m\u001b[0;34m\u001b[0m\u001b[0m\n\u001b[0;32m--> 342\u001b[0;31m                 total_epochs=epochs)\n\u001b[0m\u001b[1;32m    343\u001b[0m             \u001b[0mcbks\u001b[0m\u001b[0;34m.\u001b[0m\u001b[0mmake_logs\u001b[0m\u001b[0;34m(\u001b[0m\u001b[0mmodel\u001b[0m\u001b[0;34m,\u001b[0m \u001b[0mepoch_logs\u001b[0m\u001b[0;34m,\u001b[0m \u001b[0mtraining_result\u001b[0m\u001b[0;34m,\u001b[0m \u001b[0mModeKeys\u001b[0m\u001b[0;34m.\u001b[0m\u001b[0mTRAIN\u001b[0m\u001b[0;34m)\u001b[0m\u001b[0;34m\u001b[0m\u001b[0;34m\u001b[0m\u001b[0m\n\u001b[1;32m    344\u001b[0m \u001b[0;34m\u001b[0m\u001b[0m\n",
      "\u001b[0;32m~/miniconda3/envs/mlbook/lib/python3.7/site-packages/tensorflow_core/python/keras/engine/training_v2.py\u001b[0m in \u001b[0;36mrun_one_epoch\u001b[0;34m(model, iterator, execution_function, dataset_size, batch_size, strategy, steps_per_epoch, num_samples, mode, training_context, total_epochs)\u001b[0m\n\u001b[1;32m    126\u001b[0m         step=step, mode=mode, size=current_batch_size) as batch_logs:\n\u001b[1;32m    127\u001b[0m       \u001b[0;32mtry\u001b[0m\u001b[0;34m:\u001b[0m\u001b[0;34m\u001b[0m\u001b[0;34m\u001b[0m\u001b[0m\n\u001b[0;32m--> 128\u001b[0;31m         \u001b[0mbatch_outs\u001b[0m \u001b[0;34m=\u001b[0m \u001b[0mexecution_function\u001b[0m\u001b[0;34m(\u001b[0m\u001b[0miterator\u001b[0m\u001b[0;34m)\u001b[0m\u001b[0;34m\u001b[0m\u001b[0;34m\u001b[0m\u001b[0m\n\u001b[0m\u001b[1;32m    129\u001b[0m       \u001b[0;32mexcept\u001b[0m \u001b[0;34m(\u001b[0m\u001b[0mStopIteration\u001b[0m\u001b[0;34m,\u001b[0m \u001b[0merrors\u001b[0m\u001b[0;34m.\u001b[0m\u001b[0mOutOfRangeError\u001b[0m\u001b[0;34m)\u001b[0m\u001b[0;34m:\u001b[0m\u001b[0;34m\u001b[0m\u001b[0;34m\u001b[0m\u001b[0m\n\u001b[1;32m    130\u001b[0m         \u001b[0;31m# TODO(kaftan): File bug about tf function and errors.OutOfRangeError?\u001b[0m\u001b[0;34m\u001b[0m\u001b[0;34m\u001b[0m\u001b[0;34m\u001b[0m\u001b[0m\n",
      "\u001b[0;32m~/miniconda3/envs/mlbook/lib/python3.7/site-packages/tensorflow_core/python/keras/engine/training_v2_utils.py\u001b[0m in \u001b[0;36mexecution_function\u001b[0;34m(input_fn)\u001b[0m\n\u001b[1;32m     96\u001b[0m     \u001b[0;31m# `numpy` translates Tensors to values in Eager mode.\u001b[0m\u001b[0;34m\u001b[0m\u001b[0;34m\u001b[0m\u001b[0;34m\u001b[0m\u001b[0m\n\u001b[1;32m     97\u001b[0m     return nest.map_structure(_non_none_constant_value,\n\u001b[0;32m---> 98\u001b[0;31m                               distributed_function(input_fn))\n\u001b[0m\u001b[1;32m     99\u001b[0m \u001b[0;34m\u001b[0m\u001b[0m\n\u001b[1;32m    100\u001b[0m   \u001b[0;32mreturn\u001b[0m \u001b[0mexecution_function\u001b[0m\u001b[0;34m\u001b[0m\u001b[0;34m\u001b[0m\u001b[0m\n",
      "\u001b[0;32m~/miniconda3/envs/mlbook/lib/python3.7/site-packages/tensorflow_core/python/eager/def_function.py\u001b[0m in \u001b[0;36m__call__\u001b[0;34m(self, *args, **kwds)\u001b[0m\n\u001b[1;32m    566\u001b[0m         \u001b[0mxla_context\u001b[0m\u001b[0;34m.\u001b[0m\u001b[0mExit\u001b[0m\u001b[0;34m(\u001b[0m\u001b[0;34m)\u001b[0m\u001b[0;34m\u001b[0m\u001b[0;34m\u001b[0m\u001b[0m\n\u001b[1;32m    567\u001b[0m     \u001b[0;32melse\u001b[0m\u001b[0;34m:\u001b[0m\u001b[0;34m\u001b[0m\u001b[0;34m\u001b[0m\u001b[0m\n\u001b[0;32m--> 568\u001b[0;31m       \u001b[0mresult\u001b[0m \u001b[0;34m=\u001b[0m \u001b[0mself\u001b[0m\u001b[0;34m.\u001b[0m\u001b[0m_call\u001b[0m\u001b[0;34m(\u001b[0m\u001b[0;34m*\u001b[0m\u001b[0margs\u001b[0m\u001b[0;34m,\u001b[0m \u001b[0;34m**\u001b[0m\u001b[0mkwds\u001b[0m\u001b[0;34m)\u001b[0m\u001b[0;34m\u001b[0m\u001b[0;34m\u001b[0m\u001b[0m\n\u001b[0m\u001b[1;32m    569\u001b[0m \u001b[0;34m\u001b[0m\u001b[0m\n\u001b[1;32m    570\u001b[0m     \u001b[0;32mif\u001b[0m \u001b[0mtracing_count\u001b[0m \u001b[0;34m==\u001b[0m \u001b[0mself\u001b[0m\u001b[0;34m.\u001b[0m\u001b[0m_get_tracing_count\u001b[0m\u001b[0;34m(\u001b[0m\u001b[0;34m)\u001b[0m\u001b[0;34m:\u001b[0m\u001b[0;34m\u001b[0m\u001b[0;34m\u001b[0m\u001b[0m\n",
      "\u001b[0;32m~/miniconda3/envs/mlbook/lib/python3.7/site-packages/tensorflow_core/python/eager/def_function.py\u001b[0m in \u001b[0;36m_call\u001b[0;34m(self, *args, **kwds)\u001b[0m\n\u001b[1;32m    597\u001b[0m       \u001b[0;31m# In this case we have created variables on the first call, so we run the\u001b[0m\u001b[0;34m\u001b[0m\u001b[0;34m\u001b[0m\u001b[0;34m\u001b[0m\u001b[0m\n\u001b[1;32m    598\u001b[0m       \u001b[0;31m# defunned version which is guaranteed to never create variables.\u001b[0m\u001b[0;34m\u001b[0m\u001b[0;34m\u001b[0m\u001b[0;34m\u001b[0m\u001b[0m\n\u001b[0;32m--> 599\u001b[0;31m       \u001b[0;32mreturn\u001b[0m \u001b[0mself\u001b[0m\u001b[0;34m.\u001b[0m\u001b[0m_stateless_fn\u001b[0m\u001b[0;34m(\u001b[0m\u001b[0;34m*\u001b[0m\u001b[0margs\u001b[0m\u001b[0;34m,\u001b[0m \u001b[0;34m**\u001b[0m\u001b[0mkwds\u001b[0m\u001b[0;34m)\u001b[0m  \u001b[0;31m# pylint: disable=not-callable\u001b[0m\u001b[0;34m\u001b[0m\u001b[0;34m\u001b[0m\u001b[0m\n\u001b[0m\u001b[1;32m    600\u001b[0m     \u001b[0;32melif\u001b[0m \u001b[0mself\u001b[0m\u001b[0;34m.\u001b[0m\u001b[0m_stateful_fn\u001b[0m \u001b[0;32mis\u001b[0m \u001b[0;32mnot\u001b[0m \u001b[0;32mNone\u001b[0m\u001b[0;34m:\u001b[0m\u001b[0;34m\u001b[0m\u001b[0;34m\u001b[0m\u001b[0m\n\u001b[1;32m    601\u001b[0m       \u001b[0;31m# Release the lock early so that multiple threads can perform the call\u001b[0m\u001b[0;34m\u001b[0m\u001b[0;34m\u001b[0m\u001b[0;34m\u001b[0m\u001b[0m\n",
      "\u001b[0;32m~/miniconda3/envs/mlbook/lib/python3.7/site-packages/tensorflow_core/python/eager/function.py\u001b[0m in \u001b[0;36m__call__\u001b[0;34m(self, *args, **kwargs)\u001b[0m\n\u001b[1;32m   2361\u001b[0m     \u001b[0;32mwith\u001b[0m \u001b[0mself\u001b[0m\u001b[0;34m.\u001b[0m\u001b[0m_lock\u001b[0m\u001b[0;34m:\u001b[0m\u001b[0;34m\u001b[0m\u001b[0;34m\u001b[0m\u001b[0m\n\u001b[1;32m   2362\u001b[0m       \u001b[0mgraph_function\u001b[0m\u001b[0;34m,\u001b[0m \u001b[0margs\u001b[0m\u001b[0;34m,\u001b[0m \u001b[0mkwargs\u001b[0m \u001b[0;34m=\u001b[0m \u001b[0mself\u001b[0m\u001b[0;34m.\u001b[0m\u001b[0m_maybe_define_function\u001b[0m\u001b[0;34m(\u001b[0m\u001b[0margs\u001b[0m\u001b[0;34m,\u001b[0m \u001b[0mkwargs\u001b[0m\u001b[0;34m)\u001b[0m\u001b[0;34m\u001b[0m\u001b[0;34m\u001b[0m\u001b[0m\n\u001b[0;32m-> 2363\u001b[0;31m     \u001b[0;32mreturn\u001b[0m \u001b[0mgraph_function\u001b[0m\u001b[0;34m.\u001b[0m\u001b[0m_filtered_call\u001b[0m\u001b[0;34m(\u001b[0m\u001b[0margs\u001b[0m\u001b[0;34m,\u001b[0m \u001b[0mkwargs\u001b[0m\u001b[0;34m)\u001b[0m  \u001b[0;31m# pylint: disable=protected-access\u001b[0m\u001b[0;34m\u001b[0m\u001b[0;34m\u001b[0m\u001b[0m\n\u001b[0m\u001b[1;32m   2364\u001b[0m \u001b[0;34m\u001b[0m\u001b[0m\n\u001b[1;32m   2365\u001b[0m   \u001b[0;34m@\u001b[0m\u001b[0mproperty\u001b[0m\u001b[0;34m\u001b[0m\u001b[0;34m\u001b[0m\u001b[0m\n",
      "\u001b[0;32m~/miniconda3/envs/mlbook/lib/python3.7/site-packages/tensorflow_core/python/eager/function.py\u001b[0m in \u001b[0;36m_filtered_call\u001b[0;34m(self, args, kwargs)\u001b[0m\n\u001b[1;32m   1609\u001b[0m          if isinstance(t, (ops.Tensor,\n\u001b[1;32m   1610\u001b[0m                            resource_variable_ops.BaseResourceVariable))),\n\u001b[0;32m-> 1611\u001b[0;31m         self.captured_inputs)\n\u001b[0m\u001b[1;32m   1612\u001b[0m \u001b[0;34m\u001b[0m\u001b[0m\n\u001b[1;32m   1613\u001b[0m   \u001b[0;32mdef\u001b[0m \u001b[0m_call_flat\u001b[0m\u001b[0;34m(\u001b[0m\u001b[0mself\u001b[0m\u001b[0;34m,\u001b[0m \u001b[0margs\u001b[0m\u001b[0;34m,\u001b[0m \u001b[0mcaptured_inputs\u001b[0m\u001b[0;34m,\u001b[0m \u001b[0mcancellation_manager\u001b[0m\u001b[0;34m=\u001b[0m\u001b[0;32mNone\u001b[0m\u001b[0;34m)\u001b[0m\u001b[0;34m:\u001b[0m\u001b[0;34m\u001b[0m\u001b[0;34m\u001b[0m\u001b[0m\n",
      "\u001b[0;32m~/miniconda3/envs/mlbook/lib/python3.7/site-packages/tensorflow_core/python/eager/function.py\u001b[0m in \u001b[0;36m_call_flat\u001b[0;34m(self, args, captured_inputs, cancellation_manager)\u001b[0m\n\u001b[1;32m   1690\u001b[0m       \u001b[0;31m# No tape is watching; skip to running the function.\u001b[0m\u001b[0;34m\u001b[0m\u001b[0;34m\u001b[0m\u001b[0;34m\u001b[0m\u001b[0m\n\u001b[1;32m   1691\u001b[0m       return self._build_call_outputs(self._inference_function.call(\n\u001b[0;32m-> 1692\u001b[0;31m           ctx, args, cancellation_manager=cancellation_manager))\n\u001b[0m\u001b[1;32m   1693\u001b[0m     forward_backward = self._select_forward_and_backward_functions(\n\u001b[1;32m   1694\u001b[0m         \u001b[0margs\u001b[0m\u001b[0;34m,\u001b[0m\u001b[0;34m\u001b[0m\u001b[0;34m\u001b[0m\u001b[0m\n",
      "\u001b[0;32m~/miniconda3/envs/mlbook/lib/python3.7/site-packages/tensorflow_core/python/eager/function.py\u001b[0m in \u001b[0;36mcall\u001b[0;34m(self, ctx, args, cancellation_manager)\u001b[0m\n\u001b[1;32m    543\u001b[0m               \u001b[0minputs\u001b[0m\u001b[0;34m=\u001b[0m\u001b[0margs\u001b[0m\u001b[0;34m,\u001b[0m\u001b[0;34m\u001b[0m\u001b[0;34m\u001b[0m\u001b[0m\n\u001b[1;32m    544\u001b[0m               \u001b[0mattrs\u001b[0m\u001b[0;34m=\u001b[0m\u001b[0;34m(\u001b[0m\u001b[0;34m\"executor_type\"\u001b[0m\u001b[0;34m,\u001b[0m \u001b[0mexecutor_type\u001b[0m\u001b[0;34m,\u001b[0m \u001b[0;34m\"config_proto\"\u001b[0m\u001b[0;34m,\u001b[0m \u001b[0mconfig\u001b[0m\u001b[0;34m)\u001b[0m\u001b[0;34m,\u001b[0m\u001b[0;34m\u001b[0m\u001b[0;34m\u001b[0m\u001b[0m\n\u001b[0;32m--> 545\u001b[0;31m               ctx=ctx)\n\u001b[0m\u001b[1;32m    546\u001b[0m         \u001b[0;32melse\u001b[0m\u001b[0;34m:\u001b[0m\u001b[0;34m\u001b[0m\u001b[0;34m\u001b[0m\u001b[0m\n\u001b[1;32m    547\u001b[0m           outputs = execute.execute_with_cancellation(\n",
      "\u001b[0;32m~/miniconda3/envs/mlbook/lib/python3.7/site-packages/tensorflow_core/python/eager/execute.py\u001b[0m in \u001b[0;36mquick_execute\u001b[0;34m(op_name, num_outputs, inputs, attrs, ctx, name)\u001b[0m\n\u001b[1;32m     59\u001b[0m     tensors = pywrap_tensorflow.TFE_Py_Execute(ctx._handle, device_name,\n\u001b[1;32m     60\u001b[0m                                                \u001b[0mop_name\u001b[0m\u001b[0;34m,\u001b[0m \u001b[0minputs\u001b[0m\u001b[0;34m,\u001b[0m \u001b[0mattrs\u001b[0m\u001b[0;34m,\u001b[0m\u001b[0;34m\u001b[0m\u001b[0;34m\u001b[0m\u001b[0m\n\u001b[0;32m---> 61\u001b[0;31m                                                num_outputs)\n\u001b[0m\u001b[1;32m     62\u001b[0m   \u001b[0;32mexcept\u001b[0m \u001b[0mcore\u001b[0m\u001b[0;34m.\u001b[0m\u001b[0m_NotOkStatusException\u001b[0m \u001b[0;32mas\u001b[0m \u001b[0me\u001b[0m\u001b[0;34m:\u001b[0m\u001b[0;34m\u001b[0m\u001b[0;34m\u001b[0m\u001b[0m\n\u001b[1;32m     63\u001b[0m     \u001b[0;32mif\u001b[0m \u001b[0mname\u001b[0m \u001b[0;32mis\u001b[0m \u001b[0;32mnot\u001b[0m \u001b[0;32mNone\u001b[0m\u001b[0;34m:\u001b[0m\u001b[0;34m\u001b[0m\u001b[0;34m\u001b[0m\u001b[0m\n",
      "\u001b[0;31mKeyboardInterrupt\u001b[0m: "
     ]
    }
   ],
   "source": [
    "history = model.fit(X_train, y_train, epochs=30, \n",
    "                    validation_data=(X_valid, y_valid))"
   ]
  },
  {
   "cell_type": "code",
   "execution_count": 19,
   "metadata": {},
   "outputs": [
    {
     "data": {
      "image/png": "[encoded data removed]",
      "text/plain": [
       "<Figure size 576x360 with 1 Axes>"
      ]
     },
     "metadata": {
      "needs_background": "light"
     },
     "output_type": "display_data"
    }
   ],
   "source": [
    "import pandas as pd\n",
    "import matplotlib.pyplot as plt\n",
    "%matplotlib inline\n",
    "\n",
    "pd.DataFrame(history.history).plot(figsize=(8,5))\n",
    "plt.grid(True)\n",
    "plt.gca().set_ylim(0, 1)\n",
    "plt.show()"
   ]
  },
  {
   "cell_type": "code",
   "execution_count": 20,
   "metadata": {},
   "outputs": [
    {
     "name": "stdout",
     "output_type": "stream",
     "text": [
      "10000/10000 [==============================] - 1s 76us/sample - loss: 59.0910 - accuracy: 0.8547\n"
     ]
    },
    {
     "data": {
      "text/plain": [
       "[59.09096584849208, 0.8547]"
      ]
     },
     "execution_count": 20,
     "metadata": {},
     "output_type": "execute_result"
    }
   ],
   "source": [
    "model.evaluate(X_test, y_test)"
   ]
  },
  {
   "cell_type": "code",
   "execution_count": 48,
   "metadata": {},
   "outputs": [],
   "source": [
    "(X_train, y_train), (X_test, y_test) = keras.datasets.mnist.load_data()"
   ]
  },
  {
   "cell_type": "code",
   "execution_count": 49,
   "metadata": {
    "scrolled": true
   },
   "outputs": [
    {
     "data": {
      "text/plain": [
       "(60000, 10)"
      ]
     },
     "execution_count": 49,
     "metadata": {},
     "output_type": "execute_result"
    }
   ],
   "source": [
    "y_train, y_test = keras.utils.to_categorical(y_train, num_classes=10), keras.utils.to_categorical(y_test, num_classes=10)\n",
    "y_train.shape"
   ]
  },
  {
   "cell_type": "code",
   "execution_count": 50,
   "metadata": {},
   "outputs": [],
   "source": [
    "X_valid, X_train = X_train[:5000]/ 255.0, X_train[5000:] / 255.0\n",
    "y_valid, y_train = y_train[:5000], y_train[5000:]"
   ]
  },
  {
   "cell_type": "code",
   "execution_count": 51,
   "metadata": {},
   "outputs": [],
   "source": [
    "model = keras.models.Sequential()\n",
    "model.add(keras.layers.Flatten(input_shape=[28, 28]))\n",
    "model.add(keras.layers.Dense(300, activation=\"relu\"))\n",
    "model.add(keras.layers.Dense(100, activation=\"relu\"))\n",
    "model.add(keras.layers.Dense(10, activation=\"softmax\"))"
   ]
  },
  {
   "cell_type": "code",
   "execution_count": 52,
   "metadata": {},
   "outputs": [],
   "source": [
    "model.compile(loss=\"categorical_crossentropy\",\n",
    "              optimizer=\"adam\",\n",
    "              metrics=[keras.metrics.Precision()])"
   ]
  },
  {
   "cell_type": "code",
   "execution_count": 53,
   "metadata": {},
   "outputs": [
    {
     "name": "stdout",
     "output_type": "stream",
     "text": [
      "Train on 55000 samples, validate on 5000 samples\n",
      "Epoch 1/30\n",
      "55000/55000 [==============================] - 7s 129us/sample - loss: 0.2116 - precision_5: 0.9555 - val_loss: 0.0918 - val_precision_5: 0.9796\n",
      "Epoch 2/30\n",
      "55000/55000 [==============================] - 6s 115us/sample - loss: 0.0853 - precision_5: 0.9784 - val_loss: 0.0716 - val_precision_5: 0.9821\n",
      "Epoch 3/30\n",
      "55000/55000 [==============================] - 6s 114us/sample - loss: 0.0585 - precision_5: 0.9840 - val_loss: 0.0746 - val_precision_5: 0.9811\n",
      "Epoch 4/30\n",
      "55000/55000 [==============================] - 6s 117us/sample - loss: 0.0428 - precision_5: 0.9879 - val_loss: 0.0735 - val_precision_5: 0.9807\n",
      "Epoch 5/30\n",
      "55000/55000 [==============================] - 6s 115us/sample - loss: 0.0345 - precision_5: 0.9896 - val_loss: 0.0698 - val_precision_5: 0.9834\n",
      "Epoch 6/30\n",
      "55000/55000 [==============================] - 7s 120us/sample - loss: 0.0281 - precision_5: 0.9913 - val_loss: 0.0823 - val_precision_5: 0.9811\n",
      "Epoch 7/30\n",
      "55000/55000 [==============================] - 6s 117us/sample - loss: 0.0236 - precision_5: 0.9925 - val_loss: 0.0976 - val_precision_5: 0.9759\n",
      "Epoch 8/30\n",
      "55000/55000 [==============================] - 7s 123us/sample - loss: 0.0196 - precision_5: 0.9939 - val_loss: 0.0993 - val_precision_5: 0.9782\n",
      "Epoch 9/30\n",
      "55000/55000 [==============================] - 6s 118us/sample - loss: 0.0183 - precision_5: 0.9946 - val_loss: 0.0909 - val_precision_5: 0.9818\n",
      "Epoch 10/30\n",
      "55000/55000 [==============================] - 7s 121us/sample - loss: 0.0163 - precision_5: 0.9948 - val_loss: 0.1149 - val_precision_5: 0.9786\n",
      "Epoch 11/30\n",
      "55000/55000 [==============================] - 7s 121us/sample - loss: 0.0143 - precision_5: 0.9955 - val_loss: 0.1011 - val_precision_5: 0.9824\n",
      "Epoch 12/30\n",
      "55000/55000 [==============================] - 8s 150us/sample - loss: 0.0123 - precision_5: 0.9961 - val_loss: 0.0918 - val_precision_5: 0.9822\n",
      "Epoch 13/30\n",
      "55000/55000 [==============================] - 8s 152us/sample - loss: 0.0145 - precision_5: 0.9958 - val_loss: 0.1176 - val_precision_5: 0.9776\n",
      "Epoch 14/30\n",
      "55000/55000 [==============================] - 7s 121us/sample - loss: 0.0128 - precision_5: 0.9960 - val_loss: 0.1057 - val_precision_5: 0.9828\n",
      "Epoch 15/30\n",
      "55000/55000 [==============================] - 8s 152us/sample - loss: 0.0102 - precision_5: 0.9968 - val_loss: 0.0970 - val_precision_5: 0.9824\n",
      "Epoch 16/30\n",
      "55000/55000 [==============================] - 8s 138us/sample - loss: 0.0101 - precision_5: 0.9967 - val_loss: 0.1177 - val_precision_5: 0.9810\n",
      "Epoch 17/30\n",
      "55000/55000 [==============================] - 11s 200us/sample - loss: 0.0113 - precision_5: 0.9963 - val_loss: 0.1365 - val_precision_5: 0.9792\n",
      "Epoch 18/30\n",
      "55000/55000 [==============================] - 9s 170us/sample - loss: 0.0093 - precision_5: 0.9971 - val_loss: 0.1252 - val_precision_5: 0.9804\n",
      "Epoch 19/30\n",
      "55000/55000 [==============================] - 9s 161us/sample - loss: 0.0100 - precision_5: 0.9970 - val_loss: 0.1345 - val_precision_5: 0.9808\n",
      "Epoch 20/30\n",
      "55000/55000 [==============================] - 10s 175us/sample - loss: 0.0088 - precision_5: 0.9972 - val_loss: 0.1227 - val_precision_5: 0.9828\n",
      "Epoch 21/30\n",
      "55000/55000 [==============================] - 7s 132us/sample - loss: 0.0080 - precision_5: 0.9974 - val_loss: 0.1103 - val_precision_5: 0.9828\n",
      "Epoch 22/30\n",
      "55000/55000 [==============================] - 8s 137us/sample - loss: 0.0106 - precision_5: 0.9970 - val_loss: 0.1159 - val_precision_5: 0.9814\n",
      "Epoch 23/30\n",
      "55000/55000 [==============================] - 7s 135us/sample - loss: 0.0081 - precision_5: 0.9975 - val_loss: 0.1170 - val_precision_5: 0.9812\n",
      "Epoch 24/30\n",
      "55000/55000 [==============================] - 9s 171us/sample - loss: 0.0079 - precision_5: 0.9979 - val_loss: 0.1122 - val_precision_5: 0.9828\n",
      "Epoch 25/30\n",
      "55000/55000 [==============================] - 10s 181us/sample - loss: 0.0072 - precision_5: 0.9980 - val_loss: 0.1151 - val_precision_5: 0.9838\n",
      "Epoch 26/30\n",
      "55000/55000 [==============================] - 7s 132us/sample - loss: 0.0091 - precision_5: 0.9972 - val_loss: 0.1417 - val_precision_5: 0.9790\n",
      "Epoch 27/30\n",
      "55000/55000 [==============================] - 8s 138us/sample - loss: 0.0072 - precision_5: 0.9977 - val_loss: 0.1409 - val_precision_5: 0.9814\n",
      "Epoch 28/30\n",
      "55000/55000 [==============================] - 7s 131us/sample - loss: 0.0082 - precision_5: 0.9977 - val_loss: 0.1456 - val_precision_5: 0.9820\n",
      "Epoch 29/30\n",
      "55000/55000 [==============================] - 7s 123us/sample - loss: 0.0096 - precision_5: 0.9976 - val_loss: 0.1389 - val_precision_5: 0.9830\n",
      "Epoch 30/30\n",
      "55000/55000 [==============================] - 7s 123us/sample - loss: 0.0064 - precision_5: 0.9981 - val_loss: 0.1482 - val_precision_5: 0.9812\n"
     ]
    }
   ],
   "source": [
    "history = model.fit(X_train, y_train, epochs=30, \n",
    "                    validation_data=(X_valid, y_valid))"
   ]
  },
  {
   "cell_type": "code",
   "execution_count": 54,
   "metadata": {},
   "outputs": [
    {
     "name": "stdout",
     "output_type": "stream",
     "text": [
      "10000/10000 [==============================] - 1s 88us/sample - loss: 42.0085 - precision_5: 0.9810\n"
     ]
    },
    {
     "data": {
      "text/plain": [
       "[42.008478186035155, 0.981]"
      ]
     },
     "execution_count": 54,
     "metadata": {},
     "output_type": "execute_result"
    }
   ],
   "source": [
    "model.evaluate(X_test, y_test)"
   ]
  },
  {
   "cell_type": "code",
   "execution_count": 57,
   "metadata": {},
   "outputs": [],
   "source": [
    "import os\n",
    "root_logdir = os.path.join(os.curdir, \"my_logs\")\n",
    "\n",
    "def get_run_logdir():\n",
    "    import time\n",
    "    run_id = time.strftime(\"run_%Y_%m_%d-%H_%M_%S\")\n",
    "    return os.path.join(root_logdir, run_id)\n",
    "\n",
    "run_logdir = get_run_logdir()"
   ]
  },
  {
   "cell_type": "code",
   "execution_count": 58,
   "metadata": {},
   "outputs": [
    {
     "name": "stdout",
     "output_type": "stream",
     "text": [
      "Train on 55000 samples, validate on 5000 samples\n",
      "Epoch 1/30\n",
      "55000/55000 [==============================] - 7s 129us/sample - loss: 0.0068 - precision_5: 0.9981 - val_loss: 0.1632 - val_precision_5: 0.9816\n",
      "Epoch 2/30\n",
      "55000/55000 [==============================] - 8s 139us/sample - loss: 0.0085 - precision_5: 0.9977 - val_loss: 0.1718 - val_precision_5: 0.9792\n",
      "Epoch 3/30\n",
      "55000/55000 [==============================] - 7s 133us/sample - loss: 0.0072 - precision_5: 0.9983 - val_loss: 0.1509 - val_precision_5: 0.9824\n",
      "Epoch 4/30\n",
      "55000/55000 [==============================] - 7s 133us/sample - loss: 0.0072 - precision_5: 0.9979 - val_loss: 0.2005 - val_precision_5: 0.9786\n",
      "Epoch 5/30\n",
      "55000/55000 [==============================] - 7s 134us/sample - loss: 0.0043 - precision_5: 0.9987 - val_loss: 0.1575 - val_precision_5: 0.9826\n",
      "Epoch 6/30\n",
      "55000/55000 [==============================] - 9s 166us/sample - loss: 0.0077 - precision_5: 0.9980 - val_loss: 0.1791 - val_precision_5: 0.9816\n",
      "Epoch 7/30\n",
      "55000/55000 [==============================] - 8s 144us/sample - loss: 0.0065 - precision_5: 0.9984 - val_loss: 0.1792 - val_precision_5: 0.9812\n",
      "Epoch 8/30\n",
      "55000/55000 [==============================] - 10s 175us/sample - loss: 0.0094 - precision_5: 0.9978 - val_loss: 0.1651 - val_precision_5: 0.9816\n",
      "Epoch 9/30\n",
      "55000/55000 [==============================] - 7s 131us/sample - loss: 0.0033 - precision_5: 0.9991 - val_loss: 0.2028 - val_precision_5: 0.9794\n",
      "Epoch 10/30\n",
      "55000/55000 [==============================] - 8s 141us/sample - loss: 0.0093 - precision_5: 0.9978 - val_loss: 0.1814 - val_precision_5: 0.9820\n",
      "Epoch 11/30\n",
      "55000/55000 [==============================] - 6s 107us/sample - loss: 0.0060 - precision_5: 0.9985 - val_loss: 0.1826 - val_precision_5: 0.9810\n",
      "Epoch 12/30\n",
      "55000/55000 [==============================] - 8s 148us/sample - loss: 0.0063 - precision_5: 0.9983 - val_loss: 0.2007 - val_precision_5: 0.9804\n",
      "Epoch 13/30\n",
      "55000/55000 [==============================] - 6s 110us/sample - loss: 0.0076 - precision_5: 0.9983 - val_loss: 0.2077 - val_precision_5: 0.9806\n",
      "Epoch 14/30\n",
      "55000/55000 [==============================] - 7s 118us/sample - loss: 0.0074 - precision_5: 0.9983 - val_loss: 0.1760 - val_precision_5: 0.9830\n",
      "Epoch 15/30\n",
      "55000/55000 [==============================] - 8s 138us/sample - loss: 0.0048 - precision_5: 0.9989 - val_loss: 0.1801 - val_precision_5: 0.9816\n",
      "Epoch 16/30\n",
      "55000/55000 [==============================] - 8s 143us/sample - loss: 0.0051 - precision_5: 0.9986 - val_loss: 0.1669 - val_precision_5: 0.9824\n",
      "Epoch 17/30\n",
      "55000/55000 [==============================] - 9s 172us/sample - loss: 0.0049 - precision_5: 0.9990 - val_loss: 0.2013 - val_precision_5: 0.9826\n",
      "Epoch 18/30\n",
      "55000/55000 [==============================] - 8s 147us/sample - loss: 0.0061 - precision_5: 0.9985 - val_loss: 0.2049 - val_precision_5: 0.9824\n",
      "Epoch 19/30\n",
      "55000/55000 [==============================] - 9s 163us/sample - loss: 0.0069 - precision_5: 0.9985 - val_loss: 0.1882 - val_precision_5: 0.9836\n",
      "Epoch 20/30\n",
      "55000/55000 [==============================] - 9s 169us/sample - loss: 0.0063 - precision_5: 0.9986 - val_loss: 0.1918 - val_precision_5: 0.9820\n",
      "Epoch 21/30\n",
      "55000/55000 [==============================] - 10s 173us/sample - loss: 0.0062 - precision_5: 0.9985 - val_loss: 0.1886 - val_precision_5: 0.9832\n",
      "Epoch 22/30\n",
      "55000/55000 [==============================] - 9s 171us/sample - loss: 0.0071 - precision_5: 0.9984 - val_loss: 0.2121 - val_precision_5: 0.9816\n",
      "Epoch 23/30\n",
      "55000/55000 [==============================] - 11s 203us/sample - loss: 0.0055 - precision_5: 0.9989 - val_loss: 0.2158 - val_precision_5: 0.9806\n",
      "Epoch 24/30\n",
      "55000/55000 [==============================] - 7s 127us/sample - loss: 0.0075 - precision_5: 0.9984 - val_loss: 0.2141 - val_precision_5: 0.9806\n",
      "Epoch 25/30\n",
      "55000/55000 [==============================] - 7s 126us/sample - loss: 0.0045 - precision_5: 0.9988 - val_loss: 0.2201 - val_precision_5: 0.9818\n",
      "Epoch 26/30\n",
      "55000/55000 [==============================] - 7s 126us/sample - loss: 0.0040 - precision_5: 0.9989 - val_loss: 0.2160 - val_precision_5: 0.9804\n",
      "Epoch 27/30\n",
      "55000/55000 [==============================] - 10s 182us/sample - loss: 0.0052 - precision_5: 0.9988 - val_loss: 0.2296 - val_precision_5: 0.9822\n",
      "Epoch 28/30\n",
      "55000/55000 [==============================] - 9s 163us/sample - loss: 0.0056 - precision_5: 0.9987 - val_loss: 0.2109 - val_precision_5: 0.9812\n",
      "Epoch 29/30\n",
      "55000/55000 [==============================] - 10s 180us/sample - loss: 0.0059 - precision_5: 0.9986 - val_loss: 0.2330 - val_precision_5: 0.9808\n",
      "Epoch 30/30\n",
      "55000/55000 [==============================] - 9s 166us/sample - loss: 0.0057 - precision_5: 0.9988 - val_loss: 0.2267 - val_precision_5: 0.9834\n"
     ]
    }
   ],
   "source": [
    "tensorboard_cb = keras.callbacks.TensorBoard(run_logdir)\n",
    "history = model.fit(X_train, y_train, epochs=30, \n",
    "                    validation_data=(X_valid, y_valid),\n",
    "                    callbacks=[tensorboard_cb])"
   ]
  },
  {
   "cell_type": "code",
   "execution_count": null,
   "metadata": {},
   "outputs": [],
   "source": []
  }
 ],
 "metadata": {
  "kernelspec": {
   "display_name": "Python 3",
   "language": "python",
   "name": "python3"
  },
  "language_info": {
   "codemirror_mode": {
    "name": "ipython",
    "version": 3
   },
   "file_extension": ".py",
   "mimetype": "text/x-python",
   "name": "python",
   "nbconvert_exporter": "python",
   "pygments_lexer": "ipython3",
   "version": "3.7.6"
  }
 },
 "nbformat": 4,
 "nbformat_minor": 4
}
